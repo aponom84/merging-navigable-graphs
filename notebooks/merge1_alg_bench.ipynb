{
 "cells": [
  {
   "cell_type": "code",
   "execution_count": 1,
   "id": "eea1eda3-633d-458d-8230-a631b50aff73",
   "metadata": {},
   "outputs": [],
   "source": [
    "import importlib"
   ]
  },
  {
   "cell_type": "code",
   "execution_count": 2,
   "id": "a53e5ee0-a372-4a9f-8cad-44fb8b3768f4",
   "metadata": {},
   "outputs": [],
   "source": [
    "distance_count = 0\n",
    "def l2_distance(a, b):\n",
    "    global distance_count\n",
    "    distance_count+=1\n",
    "    return np.linalg.norm(a - b)"
   ]
  },
  {
   "cell_type": "code",
   "execution_count": 3,
   "id": "73656c17-1700-4823-a4ea-748abb04f39c",
   "metadata": {},
   "outputs": [],
   "source": [
    "import hnsw\n",
    "importlib.reload(hnsw)\n",
    "from hnsw import HNSW\n",
    "from hnsw import heuristic\n",
    "import numpy as np\n",
    "from datasets import load_sift_dataset, calculate_recall"
   ]
  },
  {
   "cell_type": "code",
   "execution_count": 20,
   "id": "921b2652-472b-4fcf-bf98-93327c9c2068",
   "metadata": {},
   "outputs": [],
   "source": [
    "hnsw_a = HNSW( distance_func=l2_distance, m=16, m0=32, ef=32, ef_construction=32,  neighborhood_construction = heuristic)\n",
    "hnsw_b = HNSW( distance_func=l2_distance, m=16, m0=32, ef=32, ef_construction=32,  neighborhood_construction = heuristic)"
   ]
  },
  {
   "cell_type": "code",
   "execution_count": 21,
   "id": "286c0c66-9701-403f-b015-c8b720b4c145",
   "metadata": {},
   "outputs": [],
   "source": [
    "hnsw_a.load('save/sift1m/hnsw_a.txt')\n",
    "hnsw_b.load('save/sift1m/hnsw_b.txt')"
   ]
  },
  {
   "cell_type": "code",
   "execution_count": 22,
   "id": "2a18ab7a-a503-45e4-b423-a47031da51d3",
   "metadata": {},
   "outputs": [],
   "source": [
    "merged_data = hnsw_a.data.copy()\n",
    "merged_data.update(hnsw_b.data)"
   ]
  },
  {
   "cell_type": "code",
   "execution_count": 23,
   "id": "a3832bb3-3fb6-402a-a2bb-577c59df9f5a",
   "metadata": {},
   "outputs": [],
   "source": [
    "import merge_hnsw\n",
    "importlib.reload(merge_hnsw)\n",
    "from merge_hnsw import merge1"
   ]
  },
  {
   "cell_type": "code",
   "execution_count": 24,
   "id": "7b93a0e4-6037-4def-8f48-b112dd1e8e48",
   "metadata": {},
   "outputs": [
    {
     "name": "stdout",
     "output_type": "stream",
     "text": [
      "Merging level: 0\n"
     ]
    },
    {
     "name": "stderr",
     "output_type": "stream",
     "text": [
      "Merging progress: 100%|██████████████████████████████████████████████████████████████████████████████████████████████████████████████████████████████████████████████████████████████| 500000/500000 [50:12<00:00, 165.96it/s]\n",
      "Merging progress: 100%|██████████████████████████████████████████████████████████████████████████████████████████████████████████████████████████████████████████████████████████████| 500000/500000 [54:09<00:00, 153.85it/s]\n"
     ]
    },
    {
     "name": "stdout",
     "output_type": "stream",
     "text": [
      "Merging level: 1\n"
     ]
    },
    {
     "name": "stderr",
     "output_type": "stream",
     "text": [
      "Merging progress: 100%|████████████████████████████████████████████████████████████████████████████████████████████████████████████████████████████████████████████████████████████████| 31635/31635 [01:39<00:00, 317.80it/s]\n",
      "Merging progress: 100%|████████████████████████████████████████████████████████████████████████████████████████████████████████████████████████████████████████████████████████████████| 31358/31358 [01:33<00:00, 337.00it/s]\n"
     ]
    },
    {
     "name": "stdout",
     "output_type": "stream",
     "text": [
      "Merging level: 2\n"
     ]
    },
    {
     "name": "stderr",
     "output_type": "stream",
     "text": [
      "Merging progress: 100%|██████████████████████████████████████████████████████████████████████████████████████████████████████████████████████████████████████████████████████████████████| 1985/1985 [00:04<00:00, 462.23it/s]\n",
      "Merging progress: 100%|██████████████████████████████████████████████████████████████████████████████████████████████████████████████████████████████████████████████████████████████████| 1943/1943 [00:04<00:00, 449.56it/s]\n"
     ]
    },
    {
     "name": "stdout",
     "output_type": "stream",
     "text": [
      "Merging level: 3\n"
     ]
    },
    {
     "name": "stderr",
     "output_type": "stream",
     "text": [
      "Merging progress: 100%|████████████████████████████████████████████████████████████████████████████████████████████████████████████████████████████████████████████████████████████████████| 148/148 [00:00<00:00, 554.35it/s]\n",
      "Merging progress: 100%|████████████████████████████████████████████████████████████████████████████████████████████████████████████████████████████████████████████████████████████████████| 124/124 [00:00<00:00, 538.88it/s]\n"
     ]
    },
    {
     "name": "stdout",
     "output_type": "stream",
     "text": [
      "Merging level: 4\n"
     ]
    },
    {
     "name": "stderr",
     "output_type": "stream",
     "text": [
      "Merging progress: 100%|█████████████████████████████████████████████████████████████████████████████████████████████████████████████████████████████████████████████████████████████████████| 11/11 [00:00<00:00, 1986.28it/s]\n",
      "Merging progress: 100%|███████████████████████████████████████████████████████████████████████████████████████████████████████████████████████████████████████████████████████████████████████| 6/6 [00:00<00:00, 1677.05it/s]\n"
     ]
    },
    {
     "name": "stdout",
     "output_type": "stream",
     "text": [
      "CPU times: user 1h 37min 11s, sys: 14min 51s, total: 1h 52min 3s\n",
      "Wall time: 1h 47min 47s\n"
     ]
    }
   ],
   "source": [
    "%%time\n",
    "distance_count = 0\n",
    "\n",
    "jump_ef=20\n",
    "local_ef=5\n",
    "next_step_k=5\n",
    "next_step_ef=3\n",
    "M = 5\n",
    "hnsw_merged1 = merge1(hnsw_a, hnsw_b, merged_data, jump_ef=jump_ef, local_ef=local_ef, next_step_k=next_step_k, next_step_ef=next_step_ef, M = M)"
   ]
  },
  {
   "cell_type": "code",
   "execution_count": 9,
   "id": "2bc82d74-3410-4a1f-a07a-e8c31fdfd8f7",
   "metadata": {},
   "outputs": [],
   "source": [
    "hnsw_merged1.save(f'save/sift1m/hnsw_merged1_jef{jump_ef}_lef{local_ef}_nsk{next_step_k}_nsef{next_step_ef}_M{M}.txt')"
   ]
  },
  {
   "cell_type": "code",
   "execution_count": 25,
   "id": "701c2190-97a5-43b4-b025-10b454d90d34",
   "metadata": {},
   "outputs": [
    {
     "name": "stdout",
     "output_type": "stream",
     "text": [
      "Numer of distance calculated during merge: 947762326\n"
     ]
    }
   ],
   "source": [
    "print(f'Numer of distance calculated during merge: {distance_count}') # m=5 m0=7: 695004299, m=16, m0=32: 947762326"
   ]
  },
  {
   "cell_type": "code",
   "execution_count": 14,
   "id": "d5fae29a-4406-417b-8495-380363c122cd",
   "metadata": {},
   "outputs": [],
   "source": [
    "_, test_data, groundtruth_data = load_sift_dataset(train_file = None,\n",
    "                                                      test_file='../datasets/sift1m-128d/sift_query.fvecs',\n",
    "                                                      groundtruth_file='../datasets/sift1m-128d/sift_groundtruth.ivecs')"
   ]
  },
  {
   "cell_type": "code",
   "execution_count": 26,
   "id": "d72845cb-3a50-4375-9a93-50780d9f4aad",
   "metadata": {},
   "outputs": [
    {
     "name": "stdout",
     "output_type": "stream",
     "text": [
      "Calculating recall...\n"
     ]
    },
    {
     "name": "stderr",
     "output_type": "stream",
     "text": [
      "100%|███████████████████████████████████████████████████████████████████████████████████████████████████████████████████████████████████████████████████████████████████████████████████| 10000/10000 [01:44<00:00, 95.63it/s]"
     ]
    },
    {
     "name": "stdout",
     "output_type": "stream",
     "text": [
      "32,0.8989599999999999, 920.6024\n"
     ]
    },
    {
     "name": "stderr",
     "output_type": "stream",
     "text": [
      "\n"
     ]
    }
   ],
   "source": [
    "search_ef = 32\n",
    "distance_count = 0\n",
    "recall, _ = calculate_recall(hnsw_merged1, test_data, groundtruth=groundtruth_data, k=5, ef=search_ef)\n",
    "print(f'{search_ef},{recall}, {distance_count/len(test_data) }') "
   ]
  },
  {
   "cell_type": "code",
   "execution_count": 27,
   "id": "794f6d2b-08c1-4759-81e7-f1a1cb68766e",
   "metadata": {},
   "outputs": [
    {
     "name": "stdout",
     "output_type": "stream",
     "text": [
      "Calculating recall...\n"
     ]
    },
    {
     "name": "stderr",
     "output_type": "stream",
     "text": [
      "100%|███████████████████████████████████████████████████████████████████████████████████████████████████████████████████████████████████████████████████████████████████████████████████| 10000/10000 [02:19<00:00, 71.44it/s]"
     ]
    },
    {
     "name": "stdout",
     "output_type": "stream",
     "text": [
      "40,0.9209200000000001, 1062.3704\n"
     ]
    },
    {
     "name": "stderr",
     "output_type": "stream",
     "text": [
      "\n"
     ]
    }
   ],
   "source": [
    "search_ef = 40\n",
    "distance_count = 0\n",
    "recall, _ = calculate_recall(hnsw_merged1, test_data, groundtruth=groundtruth_data, k=5, ef=search_ef)\n",
    "print(f'{search_ef},{recall}, {distance_count/len(test_data) }') "
   ]
  },
  {
   "cell_type": "code",
   "execution_count": 28,
   "id": "dd8f18c6-6a4b-452f-90b2-80953aca65f8",
   "metadata": {},
   "outputs": [
    {
     "name": "stdout",
     "output_type": "stream",
     "text": [
      "Calculating recall...\n"
     ]
    },
    {
     "name": "stderr",
     "output_type": "stream",
     "text": [
      "100%|███████████████████████████████████████████████████████████████████████████████████████████████████████████████████████████████████████████████████████████████████████████████████| 10000/10000 [04:39<00:00, 35.75it/s]"
     ]
    },
    {
     "name": "stdout",
     "output_type": "stream",
     "text": [
      "64,0.95336, 1468.1675\n"
     ]
    },
    {
     "name": "stderr",
     "output_type": "stream",
     "text": [
      "\n"
     ]
    }
   ],
   "source": [
    "search_ef = 64\n",
    "distance_count = 0\n",
    "recall, _ = calculate_recall(hnsw_merged1, test_data, groundtruth=groundtruth_data, k=5, ef=search_ef)\n",
    "print(f'{search_ef},{recall}, {distance_count/len(test_data) }') "
   ]
  },
  {
   "cell_type": "code",
   "execution_count": 30,
   "id": "7bab8708-176b-432e-85c6-3288903351cd",
   "metadata": {},
   "outputs": [
    {
     "name": "stdout",
     "output_type": "stream",
     "text": [
      "Calculating recall...\n"
     ]
    },
    {
     "name": "stderr",
     "output_type": "stream",
     "text": [
      "100%|███████████████████████████████████████████████████████████████████████████████████████████████████████████████████████████████████████████████████████████████████████████████████| 10000/10000 [03:28<00:00, 47.90it/s]\n"
     ]
    },
    {
     "name": "stdout",
     "output_type": "stream",
     "text": [
      "ef=50 recall: 0.9381200000000001, avg dist: 1234.3287\n",
      "Calculating recall...\n"
     ]
    },
    {
     "name": "stderr",
     "output_type": "stream",
     "text": [
      "100%|███████████████████████████████████████████████████████████████████████████████████████████████████████████████████████████████████████████████████████████████████████████████████| 10000/10000 [05:20<00:00, 31.23it/s]"
     ]
    },
    {
     "name": "stdout",
     "output_type": "stream",
     "text": [
      "ef=72 recall: 0.9596199999999999, avg dist: 1598.5293\n"
     ]
    },
    {
     "name": "stderr",
     "output_type": "stream",
     "text": [
      "\n"
     ]
    }
   ],
   "source": [
    "efs=[50,72]\n",
    "# efs=[32,40,50,64,72]\n",
    "for ef in efs:\n",
    "    distance_count = 0\n",
    "    recall, _ = calculate_recall(hnsw_merged1, test_data, groundtruth=groundtruth_data, k=5, ef=ef)\n",
    "    print(f'ef={ef} recall: {recall}, avg dist: {distance_count/len(test_data) }') "
   ]
  },
  {
   "cell_type": "code",
   "execution_count": null,
   "id": "bc1ce2da-62ee-4411-86d7-dcd06add5ed8",
   "metadata": {},
   "outputs": [],
   "source": []
  }
 ],
 "metadata": {
  "kernelspec": {
   "display_name": "Python 3 (ipykernel)",
   "language": "python",
   "name": "python3"
  },
  "language_info": {
   "codemirror_mode": {
    "name": "ipython",
    "version": 3
   },
   "file_extension": ".py",
   "mimetype": "text/x-python",
   "name": "python",
   "nbconvert_exporter": "python",
   "pygments_lexer": "ipython3",
   "version": "3.12.6"
  }
 },
 "nbformat": 4,
 "nbformat_minor": 5
}
