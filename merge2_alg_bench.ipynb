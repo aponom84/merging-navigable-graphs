{
 "cells": [
  {
   "cell_type": "code",
   "execution_count": 1,
   "id": "eea1eda3-633d-458d-8230-a631b50aff73",
   "metadata": {},
   "outputs": [],
   "source": [
    "import importlib"
   ]
  },
  {
   "cell_type": "code",
   "execution_count": 2,
   "id": "73656c17-1700-4823-a4ea-748abb04f39c",
   "metadata": {},
   "outputs": [],
   "source": [
    "import hnsw\n",
    "importlib.reload(hnsw)\n",
    "from hnsw import HNSW\n",
    "from hnsw import heuristic\n",
    "import numpy as np\n",
    "from datasets import load_sift_dataset, calculate_recall"
   ]
  },
  {
   "cell_type": "code",
   "execution_count": 3,
   "id": "a3832bb3-3fb6-402a-a2bb-577c59df9f5a",
   "metadata": {},
   "outputs": [],
   "source": [
    "import merge_hnsw\n",
    "importlib.reload(merge_hnsw)\n",
    "from merge_hnsw import merge2"
   ]
  },
  {
   "cell_type": "code",
   "execution_count": 4,
   "id": "a53e5ee0-a372-4a9f-8cad-44fb8b3768f4",
   "metadata": {},
   "outputs": [],
   "source": [
    "distance_count = 0\n",
    "def l2_distance(a, b):\n",
    "    global distance_count\n",
    "    distance_count+=1\n",
    "    return np.linalg.norm(a - b)"
   ]
  },
  {
   "cell_type": "code",
   "execution_count": null,
   "id": "077fe0d3-b637-4c02-b3a4-352bf6aeee93",
   "metadata": {},
   "outputs": [],
   "source": [
    "hnsw_a = HNSW( distance_func=l2_distance, m=5, m0=7, ef=10, ef_construction=30,  neighborhood_construction = heuristic)\n",
    "hnsw_b = HNSW( distance_func=l2_distance, m=5, m0=7, ef=10, ef_construction=30,  neighborhood_construction = heuristic)\n",
    "\n",
    "hnsw_a.load('save/sift1m/hnsw_a.txt')\n",
    "hnsw_b.load('save/sift1m/hnsw_b.txt')\n",
    "\n",
    "merged_data = hnsw_a.data.copy()\n",
    "merged_data.update(hnsw_b.data)"
   ]
  },
  {
   "cell_type": "code",
   "execution_count": 8,
   "id": "7b93a0e4-6037-4def-8f48-b112dd1e8e48",
   "metadata": {
    "scrolled": true
   },
   "outputs": [
    {
     "name": "stdout",
     "output_type": "stream",
     "text": [
      "Merging level: 0\n"
     ]
    },
    {
     "name": "stderr",
     "output_type": "stream",
     "text": [
      "Merging progress: 100%|██████████████████████████████████████████████████████████████████████████████████████████████████████████████████████████████████████████████████████████| 1000000/1000000 [10:30:29<00:00, 26.43it/s]\n"
     ]
    },
    {
     "name": "stdout",
     "output_type": "stream",
     "text": [
      "Merging level: 1\n"
     ]
    },
    {
     "name": "stderr",
     "output_type": "stream",
     "text": [
      "Merging progress: 100%|████████████████████████████████████████████████████████████████████████████████████████████████████████████████████████████████████████████████████████████████| 62993/62993 [04:53<00:00, 214.79it/s]\n"
     ]
    },
    {
     "name": "stdout",
     "output_type": "stream",
     "text": [
      "Merging level: 2\n"
     ]
    },
    {
     "name": "stderr",
     "output_type": "stream",
     "text": [
      "Merging progress: 100%|██████████████████████████████████████████████████████████████████████████████████████████████████████████████████████████████████████████████████████████████████| 3928/3928 [00:11<00:00, 347.02it/s]\n"
     ]
    },
    {
     "name": "stdout",
     "output_type": "stream",
     "text": [
      "Merging level: 3\n"
     ]
    },
    {
     "name": "stderr",
     "output_type": "stream",
     "text": [
      "Merging progress: 100%|████████████████████████████████████████████████████████████████████████████████████████████████████████████████████████████████████████████████████████████████████| 272/272 [00:00<00:00, 705.35it/s]\n"
     ]
    },
    {
     "name": "stdout",
     "output_type": "stream",
     "text": [
      "Merging level: 4\n"
     ]
    },
    {
     "name": "stderr",
     "output_type": "stream",
     "text": [
      "Merging progress: 100%|█████████████████████████████████████████████████████████████████████████████████████████████████████████████████████████████████████████████████████████████████████| 17/17 [00:00<00:00, 2282.21it/s]"
     ]
    },
    {
     "name": "stdout",
     "output_type": "stream",
     "text": [
      "CPU times: user 3h 1min 15s, sys: 26min 17s, total: 3h 27min 33s\n",
      "Wall time: 10h 35min 41s\n"
     ]
    },
    {
     "name": "stderr",
     "output_type": "stream",
     "text": [
      "\n"
     ]
    }
   ],
   "source": [
    "%%time\n",
    "from tqdm.notebook import tqdm\n",
    "distance_count = 0\n",
    "\n",
    "jump_ef=20\n",
    "local_ef=5\n",
    "next_step_k=3\n",
    "M=20\n",
    "\n",
    "hnsw_merged2 = merge2(hnsw_a, hnsw_b, merged_data, jump_ef=jump_ef, local_ef=local_ef, next_step_k=next_step_k, M=M)"
   ]
  },
  {
   "cell_type": "code",
   "execution_count": 9,
   "id": "2bc82d74-3410-4a1f-a07a-e8c31fdfd8f7",
   "metadata": {},
   "outputs": [],
   "source": [
    "hnsw_merged2.save(f'save/sift1m/hnsw_merged2_jef{jump_ef}_lef{local_ef}_nsk{next_step_k}_M{M}.txt')"
   ]
  },
  {
   "cell_type": "code",
   "execution_count": 10,
   "id": "701c2190-97a5-43b4-b025-10b454d90d34",
   "metadata": {},
   "outputs": [
    {
     "name": "stdout",
     "output_type": "stream",
     "text": [
      "Numer of distance calculated during merge: 909587415\n"
     ]
    }
   ],
   "source": [
    "print(f'Numer of distance calculated during merge: {distance_count}') # 588321997"
   ]
  },
  {
   "cell_type": "code",
   "execution_count": 12,
   "id": "d5fae29a-4406-417b-8495-380363c122cd",
   "metadata": {},
   "outputs": [],
   "source": [
    "_, test_data, groundtruth_data = load_sift_dataset(train_file = None,\n",
    "                                                      test_file='../datasets/sift1m-128d/sift_query.fvecs',\n",
    "                                                      groundtruth_file='../datasets/sift1m-128d/sift_groundtruth.ivecs')"
   ]
  },
  {
   "cell_type": "code",
   "execution_count": 13,
   "id": "e28391b1-1b91-47cc-b50d-9f8c9eba4ea6",
   "metadata": {},
   "outputs": [
    {
     "name": "stdout",
     "output_type": "stream",
     "text": [
      "Calculating recall...\n"
     ]
    },
    {
     "name": "stderr",
     "output_type": "stream",
     "text": [
      "100%|██████████████████████████████████████████████████████████████████████████████████████████████████████████████████████████████████████████████████████████████████████████████████| 10000/10000 [01:12<00:00, 137.93it/s]"
     ]
    },
    {
     "name": "stdout",
     "output_type": "stream",
     "text": [
      "32,0.8391, 610.5466\n"
     ]
    },
    {
     "name": "stderr",
     "output_type": "stream",
     "text": [
      "\n"
     ]
    }
   ],
   "source": [
    "search_ef = 32\n",
    "distance_count = 0\n",
    "recall, _ = calculate_recall(hnsw_merged2, test_data, groundtruth=groundtruth_data, k=5, ef=search_ef)\n",
    "print(f'{search_ef},{recall}, {distance_count/len(test_data) }') "
   ]
  },
  {
   "cell_type": "code",
   "execution_count": 14,
   "id": "fcd9fded-dfa7-46fb-91dd-c330570baa92",
   "metadata": {},
   "outputs": [
    {
     "name": "stdout",
     "output_type": "stream",
     "text": [
      "Calculating recall...\n"
     ]
    },
    {
     "name": "stderr",
     "output_type": "stream",
     "text": [
      "100%|██████████████████████████████████████████████████████████████████████████████████████████████████████████████████████████████████████████████████████████████████████████████████| 10000/10000 [01:38<00:00, 101.12it/s]"
     ]
    },
    {
     "name": "stdout",
     "output_type": "stream",
     "text": [
      "40,0.86936, 706.1153\n"
     ]
    },
    {
     "name": "stderr",
     "output_type": "stream",
     "text": [
      "\n"
     ]
    }
   ],
   "source": [
    "search_ef = 40\n",
    "distance_count = 0\n",
    "recall, _ = calculate_recall(hnsw_merged2, test_data, groundtruth=groundtruth_data, k=5, ef=search_ef)\n",
    "print(f'{search_ef},{recall}, {distance_count/len(test_data) }') "
   ]
  },
  {
   "cell_type": "code",
   "execution_count": 15,
   "id": "d6a59c78-98d1-416d-be9e-ef0fed7f3184",
   "metadata": {},
   "outputs": [
    {
     "name": "stdout",
     "output_type": "stream",
     "text": [
      "Calculating recall...\n"
     ]
    },
    {
     "name": "stderr",
     "output_type": "stream",
     "text": [
      "100%|███████████████████████████████████████████████████████████████████████████████████████████████████████████████████████████████████████████████████████████████████████████████████| 10000/10000 [02:58<00:00, 56.06it/s]"
     ]
    },
    {
     "name": "stdout",
     "output_type": "stream",
     "text": [
      "64,0.9195400000000001, 985.9332\n"
     ]
    },
    {
     "name": "stderr",
     "output_type": "stream",
     "text": [
      "\n"
     ]
    }
   ],
   "source": [
    "search_ef = 64\n",
    "distance_count = 0\n",
    "recall, _ = calculate_recall(hnsw_merged2, test_data, groundtruth=groundtruth_data, k=5, ef=search_ef)\n",
    "print(f'{search_ef},{recall}, {distance_count/len(test_data) }') "
   ]
  }
 ],
 "metadata": {
  "kernelspec": {
   "display_name": "Python 3 (ipykernel)",
   "language": "python",
   "name": "python3"
  },
  "language_info": {
   "codemirror_mode": {
    "name": "ipython",
    "version": 3
   },
   "file_extension": ".py",
   "mimetype": "text/x-python",
   "name": "python",
   "nbconvert_exporter": "python",
   "pygments_lexer": "ipython3",
   "version": "3.12.6"
  }
 },
 "nbformat": 4,
 "nbformat_minor": 5
}
