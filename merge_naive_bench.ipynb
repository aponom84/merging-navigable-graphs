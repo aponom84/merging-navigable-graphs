{
 "cells": [
  {
   "cell_type": "code",
   "execution_count": 1,
   "id": "eea1eda3-633d-458d-8230-a631b50aff73",
   "metadata": {},
   "outputs": [],
   "source": [
    "import importlib"
   ]
  },
  {
   "cell_type": "code",
   "execution_count": 2,
   "id": "73656c17-1700-4823-a4ea-748abb04f39c",
   "metadata": {},
   "outputs": [],
   "source": [
    "import hnsw\n",
    "importlib.reload(hnsw)\n",
    "from hnsw import HNSW\n",
    "from hnsw import heuristic\n",
    "import numpy as np\n",
    "from datasets import load_sift_dataset, calculate_recall"
   ]
  },
  {
   "cell_type": "code",
   "execution_count": 9,
   "id": "a3832bb3-3fb6-402a-a2bb-577c59df9f5a",
   "metadata": {},
   "outputs": [],
   "source": [
    "import merge_hnsw\n",
    "importlib.reload(merge_hnsw)\n",
    "from merge_hnsw import hnsw_general_merge\n",
    "from merge_hnsw import merge_naive"
   ]
  },
  {
   "cell_type": "code",
   "execution_count": 5,
   "id": "a53e5ee0-a372-4a9f-8cad-44fb8b3768f4",
   "metadata": {},
   "outputs": [],
   "source": [
    "distance_count = 0\n",
    "def l2_distance(a, b):\n",
    "    global distance_count\n",
    "    distance_count+=1\n",
    "    return np.linalg.norm(a - b)"
   ]
  },
  {
   "cell_type": "code",
   "execution_count": 6,
   "id": "921b2652-472b-4fcf-bf98-93327c9c2068",
   "metadata": {
    "editable": true,
    "slideshow": {
     "slide_type": ""
    },
    "tags": []
   },
   "outputs": [],
   "source": [
    "hnsw_a = HNSW( distance_func=l2_distance, m=5, m0=7, ef=10, ef_construction=30,  neighborhood_construction = heuristic)\n",
    "hnsw_b = HNSW( distance_func=l2_distance, m=5, m0=7, ef=10, ef_construction=30,  neighborhood_construction = heuristic)"
   ]
  },
  {
   "cell_type": "code",
   "execution_count": 7,
   "id": "286c0c66-9701-403f-b015-c8b720b4c145",
   "metadata": {},
   "outputs": [],
   "source": [
    "hnsw_a.load('save/sift1m/hnsw_a.txt')\n",
    "hnsw_b.load('save/sift1m/hnsw_b.txt')"
   ]
  },
  {
   "cell_type": "code",
   "execution_count": 8,
   "id": "2a18ab7a-a503-45e4-b423-a47031da51d3",
   "metadata": {},
   "outputs": [],
   "source": [
    "merged_data = hnsw_a.data.copy()\n",
    "merged_data.update(hnsw_b.data)"
   ]
  },
  {
   "cell_type": "code",
   "execution_count": 15,
   "id": "bf6596ba-9763-4b92-8576-cde1099a5bb9",
   "metadata": {},
   "outputs": [],
   "source": [
    "merge_ef = 20\n",
    "def layer_merge_naive_func(hnsw_a, hnsw_b, merged_data, level):\n",
    "  return merge_naive(hnsw_a, hnsw_b, merged_data, level, search_ef=merge_ef)"
   ]
  },
  {
   "cell_type": "code",
   "execution_count": 12,
   "id": "7b93a0e4-6037-4def-8f48-b112dd1e8e48",
   "metadata": {},
   "outputs": [
    {
     "name": "stdout",
     "output_type": "stream",
     "text": [
      "Merging level: 0\n"
     ]
    },
    {
     "name": "stderr",
     "output_type": "stream",
     "text": [
      "100%|███████████████████████████████████████████████████████████████████████████████████████████████████████████████████████████████████████████████████████████████████████████████| 500000/500000 [5:29:17<00:00, 25.31it/s]\n",
      "100%|███████████████████████████████████████████████████████████████████████████████████████████████████████████████████████████████████████████████████████████████████████████████| 500000/500000 [8:31:10<00:00, 16.30it/s]\n"
     ]
    },
    {
     "name": "stdout",
     "output_type": "stream",
     "text": [
      "Merging level: 1\n"
     ]
    },
    {
     "name": "stderr",
     "output_type": "stream",
     "text": [
      "100%|███████████████████████████████████████████████████████████████████████████████████████████████████████████████████████████████████████████████████████████████████████████████████| 31635/31635 [09:57<00:00, 52.92it/s]\n",
      "100%|███████████████████████████████████████████████████████████████████████████████████████████████████████████████████████████████████████████████████████████████████████████████████| 31358/31358 [09:36<00:00, 54.36it/s]\n"
     ]
    },
    {
     "name": "stdout",
     "output_type": "stream",
     "text": [
      "Merging level: 2\n"
     ]
    },
    {
     "name": "stderr",
     "output_type": "stream",
     "text": [
      "100%|████████████████████████████████████████████████████████████████████████████████████████████████████████████████████████████████████████████████████████████████████████████████████| 1985/1985 [00:18<00:00, 109.64it/s]\n",
      "100%|████████████████████████████████████████████████████████████████████████████████████████████████████████████████████████████████████████████████████████████████████████████████████| 1943/1943 [00:18<00:00, 104.52it/s]\n"
     ]
    },
    {
     "name": "stdout",
     "output_type": "stream",
     "text": [
      "Merging level: 3\n"
     ]
    },
    {
     "name": "stderr",
     "output_type": "stream",
     "text": [
      "100%|██████████████████████████████████████████████████████████████████████████████████████████████████████████████████████████████████████████████████████████████████████████████████████| 148/148 [00:00<00:00, 342.01it/s]\n",
      "100%|██████████████████████████████████████████████████████████████████████████████████████████████████████████████████████████████████████████████████████████████████████████████████████| 124/124 [00:00<00:00, 310.28it/s]\n"
     ]
    },
    {
     "name": "stdout",
     "output_type": "stream",
     "text": [
      "Merging level: 4\n"
     ]
    },
    {
     "name": "stderr",
     "output_type": "stream",
     "text": [
      "100%|███████████████████████████████████████████████████████████████████████████████████████████████████████████████████████████████████████████████████████████████████████████████████████| 11/11 [00:00<00:00, 2555.94it/s]\n",
      "100%|█████████████████████████████████████████████████████████████████████████████████████████████████████████████████████████████████████████████████████████████████████████████████████████| 6/6 [00:00<00:00, 2042.85it/s]"
     ]
    },
    {
     "name": "stdout",
     "output_type": "stream",
     "text": [
      "Total metric calculation: 8683010381\n",
      "CPU times: user 10h 50min 7s, sys: 1h 42min 55s, total: 12h 33min 3s\n",
      "Wall time: 14h 20min 39s\n"
     ]
    },
    {
     "name": "stderr",
     "output_type": "stream",
     "text": [
      "\n"
     ]
    }
   ],
   "source": [
    "%%time\n",
    "distance_count = 0\n",
    "hnsw_merged_naive = hnsw_general_merge(hnsw_a, hnsw_b, merged_data, layer_merge_naive_func)\n",
    "print(f'Numer of distance calculated during the merge: {distance_count}') # 696869746"
   ]
  },
  {
   "cell_type": "code",
   "execution_count": 16,
   "id": "2bc82d74-3410-4a1f-a07a-e8c31fdfd8f7",
   "metadata": {},
   "outputs": [],
   "source": [
    "hnsw_merged_naive.save(f'save/sift1m/hnsw_merged_naive_ef{merge_ef}.txt')"
   ]
  },
  {
   "cell_type": "code",
   "execution_count": 13,
   "id": "701c2190-97a5-43b4-b025-10b454d90d34",
   "metadata": {},
   "outputs": [
    {
     "name": "stdout",
     "output_type": "stream",
     "text": [
      "Numer of distance calculated during the merge: 8683010381\n"
     ]
    }
   ],
   "source": [
    "print(f'Numer of distance calculated during the merge: {distance_count}') # 8683010381"
   ]
  },
  {
   "cell_type": "code",
   "execution_count": 17,
   "id": "d5fae29a-4406-417b-8495-380363c122cd",
   "metadata": {},
   "outputs": [],
   "source": [
    "_, test_data, groundtruth_data = load_sift_dataset(train_file = None,\n",
    "                                                      test_file='../datasets/sift1m-128d/sift_query.fvecs',\n",
    "                                                      groundtruth_file='../datasets/sift1m-128d/sift_groundtruth.ivecs')"
   ]
  },
  {
   "cell_type": "code",
   "execution_count": 22,
   "id": "28faade4-31f9-40a7-8e4a-dc24cbdd08b5",
   "metadata": {},
   "outputs": [
    {
     "name": "stdout",
     "output_type": "stream",
     "text": [
      "Calculating recall...\n"
     ]
    },
    {
     "name": "stderr",
     "output_type": "stream",
     "text": [
      "100%|██████████████████████████████████████████████████████████████████████████████████████████████████████████████████████████████████████████████████████████████████████████████████| 10000/10000 [01:38<00:00, 102.02it/s]"
     ]
    },
    {
     "name": "stdout",
     "output_type": "stream",
     "text": [
      "32,0.8929600000000001, 772.3489\n"
     ]
    },
    {
     "name": "stderr",
     "output_type": "stream",
     "text": [
      "\n"
     ]
    }
   ],
   "source": [
    "search_ef = 32\n",
    "distance_count = 0\n",
    "recall, _ = calculate_recall(hnsw_merged_naive, test_data, groundtruth=groundtruth_data, k=5, ef=search_ef)\n",
    "print(f'{search_ef},{recall}, {distance_count/len(test_data) }') "
   ]
  },
  {
   "cell_type": "code",
   "execution_count": 23,
   "id": "647ac854-4faa-46fc-950f-fa14822533cc",
   "metadata": {},
   "outputs": [
    {
     "name": "stdout",
     "output_type": "stream",
     "text": [
      "Calculating recall...\n"
     ]
    },
    {
     "name": "stderr",
     "output_type": "stream",
     "text": [
      "100%|███████████████████████████████████████████████████████████████████████████████████████████████████████████████████████████████████████████████████████████████████████████████████| 10000/10000 [01:59<00:00, 83.67it/s]"
     ]
    },
    {
     "name": "stdout",
     "output_type": "stream",
     "text": [
      "40,0.9169200000000001, 896.6725\n"
     ]
    },
    {
     "name": "stderr",
     "output_type": "stream",
     "text": [
      "\n"
     ]
    }
   ],
   "source": [
    "search_ef = 40\n",
    "distance_count = 0\n",
    "recall, _ = calculate_recall(hnsw_merged_naive, test_data, groundtruth=groundtruth_data, k=5, ef=search_ef)\n",
    "print(f'{search_ef},{recall}, {distance_count/len(test_data) }') "
   ]
  },
  {
   "cell_type": "code",
   "execution_count": 24,
   "id": "6e027103-cb25-4cbb-916e-cb5300cb89b0",
   "metadata": {},
   "outputs": [
    {
     "name": "stdout",
     "output_type": "stream",
     "text": [
      "Calculating recall...\n"
     ]
    },
    {
     "name": "stderr",
     "output_type": "stream",
     "text": [
      "100%|███████████████████████████████████████████████████████████████████████████████████████████████████████████████████████████████████████████████████████████████████████████████████| 10000/10000 [24:46<00:00,  6.73it/s]"
     ]
    },
    {
     "name": "stdout",
     "output_type": "stream",
     "text": [
      "64,0.95306, 1256.9268\n"
     ]
    },
    {
     "name": "stderr",
     "output_type": "stream",
     "text": [
      "\n"
     ]
    }
   ],
   "source": [
    "search_ef = 64\n",
    "distance_count = 0\n",
    "recall, _ = calculate_recall(hnsw_merged_naive, test_data, groundtruth=groundtruth_data, k=5, ef=search_ef)\n",
    "print(f'{search_ef},{recall}, {distance_count/len(test_data) }') "
   ]
  },
  {
   "cell_type": "code",
   "execution_count": null,
   "id": "89b1c160-0ba5-4943-8e9b-3107694ca80d",
   "metadata": {},
   "outputs": [],
   "source": []
  }
 ],
 "metadata": {
  "kernelspec": {
   "display_name": "Python 3 (ipykernel)",
   "language": "python",
   "name": "python3"
  },
  "language_info": {
   "codemirror_mode": {
    "name": "ipython",
    "version": 3
   },
   "file_extension": ".py",
   "mimetype": "text/x-python",
   "name": "python",
   "nbconvert_exporter": "python",
   "pygments_lexer": "ipython3",
   "version": "3.12.6"
  }
 },
 "nbformat": 4,
 "nbformat_minor": 5
}
