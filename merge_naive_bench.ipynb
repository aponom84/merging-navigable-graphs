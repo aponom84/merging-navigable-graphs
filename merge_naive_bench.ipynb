{
 "cells": [
  {
   "cell_type": "code",
   "execution_count": 2,
   "id": "eea1eda3-633d-458d-8230-a631b50aff73",
   "metadata": {},
   "outputs": [],
   "source": [
    "import importlib"
   ]
  },
  {
   "cell_type": "code",
   "execution_count": 15,
   "id": "73656c17-1700-4823-a4ea-748abb04f39c",
   "metadata": {},
   "outputs": [],
   "source": [
    "import hnsw\n",
    "importlib.reload(hnsw)\n",
    "from hnsw import HNSW\n",
    "from hnsw import heuristic\n",
    "import numpy as np\n",
    "from tqdm import tqdm\n",
    "from datasets import load_sift_dataset, calculate_recall"
   ]
  },
  {
   "cell_type": "code",
   "execution_count": 30,
   "id": "a3832bb3-3fb6-402a-a2bb-577c59df9f5a",
   "metadata": {},
   "outputs": [],
   "source": [
    "import merge_hnsw\n",
    "importlib.reload(merge_hnsw)\n",
    "from merge_hnsw import merge_naive"
   ]
  },
  {
   "cell_type": "code",
   "execution_count": 31,
   "id": "a53e5ee0-a372-4a9f-8cad-44fb8b3768f4",
   "metadata": {},
   "outputs": [],
   "source": [
    "distance_count = 0\n",
    "def l2_distance(a, b):\n",
    "    global distance_count\n",
    "    distance_count+=1\n",
    "    return np.linalg.norm(a - b)"
   ]
  },
  {
   "cell_type": "raw",
   "id": "55cb6a8a-061a-4b10-8e09-4970b3719aba",
   "metadata": {},
   "source": [
    "hnsw_a = HNSW( distance_func=l2_distance, m=5, m0=7, ef=10, ef_construction=30,  neighborhood_construction = heuristic)\n",
    "hnsw_b = HNSW( distance_func=l2_distance, m=5, m0=7, ef=10, ef_construction=30,  neighborhood_construction = heuristic)"
   ]
  },
  {
   "cell_type": "code",
   "execution_count": 26,
   "id": "267b3495-3277-454c-b974-36a6e3e23910",
   "metadata": {},
   "outputs": [],
   "source": [
    "hnsw_a = HNSW( distance_func=l2_distance, m=16, m0=32, ef=32, ef_construction=32,  neighborhood_construction = heuristic)\n",
    "hnsw_b = HNSW( distance_func=l2_distance, m=16, m0=32, ef=32, ef_construction=32,  neighborhood_construction = heuristic)"
   ]
  },
  {
   "cell_type": "code",
   "execution_count": 27,
   "id": "286c0c66-9701-403f-b015-c8b720b4c145",
   "metadata": {},
   "outputs": [],
   "source": [
    "hnsw_a.load('save/sift1m/hnsw_a.txt')\n",
    "hnsw_b.load('save/sift1m/hnsw_b.txt')"
   ]
  },
  {
   "cell_type": "code",
   "execution_count": 28,
   "id": "2a18ab7a-a503-45e4-b423-a47031da51d3",
   "metadata": {},
   "outputs": [],
   "source": [
    "merged_data = hnsw_a.data.copy()\n",
    "merged_data.update(hnsw_b.data)"
   ]
  },
  {
   "cell_type": "code",
   "execution_count": 32,
   "id": "7b93a0e4-6037-4def-8f48-b112dd1e8e48",
   "metadata": {},
   "outputs": [
    {
     "name": "stdout",
     "output_type": "stream",
     "text": [
      "Merging level: 0\n"
     ]
    },
    {
     "name": "stderr",
     "output_type": "stream",
     "text": [
      "100%|██████████████████████████████████████████████████████████████████████████████████████████████████████████████████████████████████████████████████████████████████████████████| 500000/500000 [1:20:02<00:00, 104.11it/s]\n",
      "100%|███████████████████████████████████████████████████████████████████████████████████████████████████████████████████████████████████████████████████████████████████████████████| 500000/500000 [5:18:03<00:00, 26.20it/s]\n"
     ]
    },
    {
     "name": "stdout",
     "output_type": "stream",
     "text": [
      "Merging level: 1\n"
     ]
    },
    {
     "name": "stderr",
     "output_type": "stream",
     "text": [
      "100%|██████████████████████████████████████████████████████████████████████████████████████████████████████████████████████████████████████████████████████████████████████████████████| 31635/31635 [02:51<00:00, 184.43it/s]\n",
      "100%|███████████████████████████████████████████████████████████████████████████████████████████████████████████████████████████████████████████████████████████████████████████████████| 31358/31358 [09:20<00:00, 55.97it/s]\n"
     ]
    },
    {
     "name": "stdout",
     "output_type": "stream",
     "text": [
      "Merging level: 2\n"
     ]
    },
    {
     "name": "stderr",
     "output_type": "stream",
     "text": [
      "100%|████████████████████████████████████████████████████████████████████████████████████████████████████████████████████████████████████████████████████████████████████████████████████| 1985/1985 [00:06<00:00, 330.14it/s]\n",
      "100%|████████████████████████████████████████████████████████████████████████████████████████████████████████████████████████████████████████████████████████████████████████████████████| 1943/1943 [00:18<00:00, 106.16it/s]\n"
     ]
    },
    {
     "name": "stdout",
     "output_type": "stream",
     "text": [
      "Merging level: 3\n"
     ]
    },
    {
     "name": "stderr",
     "output_type": "stream",
     "text": [
      "100%|██████████████████████████████████████████████████████████████████████████████████████████████████████████████████████████████████████████████████████████████████████████████████████| 148/148 [00:00<00:00, 547.93it/s]\n",
      "100%|██████████████████████████████████████████████████████████████████████████████████████████████████████████████████████████████████████████████████████████████████████████████████████| 124/124 [00:00<00:00, 311.76it/s]\n"
     ]
    },
    {
     "name": "stdout",
     "output_type": "stream",
     "text": [
      "Merging level: 4\n"
     ]
    },
    {
     "name": "stderr",
     "output_type": "stream",
     "text": [
      "100%|███████████████████████████████████████████████████████████████████████████████████████████████████████████████████████████████████████████████████████████████████████████████████████| 11/11 [00:00<00:00, 2413.92it/s]\n",
      "100%|█████████████████████████████████████████████████████████████████████████████████████████████████████████████████████████████████████████████████████████████████████████████████████████| 6/6 [00:00<00:00, 1411.67it/s]\n"
     ]
    },
    {
     "name": "stdout",
     "output_type": "stream",
     "text": [
      "Numer of distance calculated during the merge: 4812582791\n",
      "CPU times: user 6h 30min 27s, sys: 1h 1min 16s, total: 7h 31min 43s\n",
      "Wall time: 6h 50min 49s\n"
     ]
    }
   ],
   "source": [
    "%%time\n",
    "distance_count = 0\n",
    "hnsw_merged_naive = merge_naive(hnsw_a, hnsw_b, merged_data, merge_ef = 20)\n",
    "print(f'Numer of distance calculated during the merge: {distance_count}') # 696869746"
   ]
  },
  {
   "cell_type": "code",
   "execution_count": 33,
   "id": "2bc82d74-3410-4a1f-a07a-e8c31fdfd8f7",
   "metadata": {},
   "outputs": [],
   "source": [
    "hnsw_merged_naive.save(f'save/sift1m/hnsw_merged_naive_ef{merge_ef}.txt')"
   ]
  },
  {
   "cell_type": "code",
   "execution_count": 33,
   "id": "701c2190-97a5-43b4-b025-10b454d90d34",
   "metadata": {},
   "outputs": [
    {
     "name": "stdout",
     "output_type": "stream",
     "text": [
      "Numer of distance calculated during the merge: 4812582791\n"
     ]
    }
   ],
   "source": [
    "print(f'Numer of distance calculated during the merge: {distance_count}') # m=5 m0=7: 960554605; m=16, m0=32: 4812582791"
   ]
  },
  {
   "cell_type": "code",
   "execution_count": 35,
   "id": "aa2128b1-8592-4a11-a812-46fb20313d78",
   "metadata": {},
   "outputs": [
    {
     "data": {
      "text/plain": [
       "5.077837195018448"
      ]
     },
     "execution_count": 35,
     "metadata": {},
     "output_type": "execute_result"
    }
   ],
   "source": [
    "4812582791 / 947762326"
   ]
  },
  {
   "cell_type": "code",
   "execution_count": 25,
   "id": "4fcc97d8-0cd4-4e01-9473-4d9ad0fffb21",
   "metadata": {},
   "outputs": [
    {
     "data": {
      "text/plain": [
       "1.2303127441672095"
      ]
     },
     "execution_count": 25,
     "metadata": {},
     "output_type": "execute_result"
    }
   ],
   "source": [
    "# merge2 m=16, m0=32 1181782572 "
   ]
  },
  {
   "cell_type": "code",
   "execution_count": 36,
   "id": "d5fae29a-4406-417b-8495-380363c122cd",
   "metadata": {},
   "outputs": [],
   "source": [
    "_, test_data, groundtruth_data = load_sift_dataset(train_file = None,\n",
    "                                                      test_file='../datasets/sift1m-128d/sift_query.fvecs',\n",
    "                                                      groundtruth_file='../datasets/sift1m-128d/sift_groundtruth.ivecs')"
   ]
  },
  {
   "cell_type": "code",
   "execution_count": 37,
   "id": "ed712385-aeaf-4005-820b-22a9c31324e4",
   "metadata": {},
   "outputs": [
    {
     "name": "stdout",
     "output_type": "stream",
     "text": [
      "Calculating recall...\n"
     ]
    },
    {
     "name": "stderr",
     "output_type": "stream",
     "text": [
      "100%|███████████████████████████████████████████████████████████████████████████████████████████████████████████████████████████████████████████████████████████████████████████████████| 10000/10000 [02:03<00:00, 81.09it/s]"
     ]
    },
    {
     "name": "stdout",
     "output_type": "stream",
     "text": [
      "32,0.9148400000000001, 950.5332\n"
     ]
    },
    {
     "name": "stderr",
     "output_type": "stream",
     "text": [
      "\n"
     ]
    }
   ],
   "source": [
    "search_ef = 32\n",
    "distance_count = 0\n",
    "recall, _ = calculate_recall(hnsw_merged_naive, test_data, groundtruth=groundtruth_data, k=5, ef=search_ef)\n",
    "print(f'{search_ef},{recall}, {distance_count/len(test_data) }') "
   ]
  },
  {
   "cell_type": "code",
   "execution_count": 38,
   "id": "f6b02b81-4488-46ca-950f-07ccc9676906",
   "metadata": {},
   "outputs": [
    {
     "name": "stdout",
     "output_type": "stream",
     "text": [
      "Calculating recall...\n"
     ]
    },
    {
     "name": "stderr",
     "output_type": "stream",
     "text": [
      "100%|███████████████████████████████████████████████████████████████████████████████████████████████████████████████████████████████████████████████████████████████████████████████████| 10000/10000 [02:35<00:00, 64.20it/s]"
     ]
    },
    {
     "name": "stdout",
     "output_type": "stream",
     "text": [
      "40,0.9342, 1098.4587\n"
     ]
    },
    {
     "name": "stderr",
     "output_type": "stream",
     "text": [
      "\n"
     ]
    }
   ],
   "source": [
    "search_ef = 40\n",
    "distance_count = 0\n",
    "recall, _ = calculate_recall(hnsw_merged_naive, test_data, groundtruth=groundtruth_data, k=5, ef=search_ef)\n",
    "print(f'{search_ef},{recall}, {distance_count/len(test_data) }') "
   ]
  },
  {
   "cell_type": "code",
   "execution_count": 39,
   "id": "2b168754-10fa-46b4-8d8d-8d87d6e5c28b",
   "metadata": {},
   "outputs": [
    {
     "name": "stdout",
     "output_type": "stream",
     "text": [
      "Calculating recall...\n"
     ]
    },
    {
     "name": "stderr",
     "output_type": "stream",
     "text": [
      "100%|███████████████████████████████████████████████████████████████████████████████████████████████████████████████████████████████████████████████████████████████████████████████████| 10000/10000 [04:12<00:00, 39.57it/s]"
     ]
    },
    {
     "name": "stdout",
     "output_type": "stream",
     "text": [
      "64,0.9626600000000001, 1522.9343\n"
     ]
    },
    {
     "name": "stderr",
     "output_type": "stream",
     "text": [
      "\n"
     ]
    }
   ],
   "source": [
    "search_ef = 64\n",
    "distance_count = 0\n",
    "recall, _ = calculate_recall(hnsw_merged_naive, test_data, groundtruth=groundtruth_data, k=5, ef=search_ef)\n",
    "print(f'{search_ef},{recall}, {distance_count/len(test_data) }') "
   ]
  },
  {
   "cell_type": "code",
   "execution_count": 42,
   "id": "b5d2c883-d036-4261-8e54-2987e0a3cd22",
   "metadata": {},
   "outputs": [
    {
     "name": "stdout",
     "output_type": "stream",
     "text": [
      "Calculating recall...\n"
     ]
    },
    {
     "name": "stderr",
     "output_type": "stream",
     "text": [
      "100%|███████████████████████████████████████████████████████████████████████████████████████████████████████████████████████████████████████████████████████████████████████████████████| 10000/10000 [03:21<00:00, 49.74it/s]\n"
     ]
    },
    {
     "name": "stdout",
     "output_type": "stream",
     "text": [
      "ef=50 recall: 0.9499400000000001, avg dist: 1278.8071\n",
      "Calculating recall...\n"
     ]
    },
    {
     "name": "stderr",
     "output_type": "stream",
     "text": [
      "100%|███████████████████████████████████████████████████████████████████████████████████████████████████████████████████████████████████████████████████████████████████████████████████| 10000/10000 [05:57<00:00, 27.99it/s]"
     ]
    },
    {
     "name": "stdout",
     "output_type": "stream",
     "text": [
      "ef=72 recall: 0.9677400000000002, avg dist: 1659.3787\n"
     ]
    },
    {
     "name": "stderr",
     "output_type": "stream",
     "text": [
      "\n"
     ]
    }
   ],
   "source": [
    "efs=[50,72]\n",
    "# efs=[32,40,50,64,72]\n",
    "for ef in efs:\n",
    "    distance_count = 0\n",
    "    recall, _ = calculate_recall(hnsw_merged_naive, test_data, groundtruth=groundtruth_data, k=5, ef=ef)\n",
    "    print(f'ef={ef} recall: {recall}, avg dist: {distance_count/len(test_data) }') "
   ]
  },
  {
   "cell_type": "code",
   "execution_count": null,
   "id": "adc892aa-99f1-483b-8fd1-fb26c26f1f51",
   "metadata": {},
   "outputs": [],
   "source": []
  }
 ],
 "metadata": {
  "kernelspec": {
   "display_name": "Python 3 (ipykernel)",
   "language": "python",
   "name": "python3"
  },
  "language_info": {
   "codemirror_mode": {
    "name": "ipython",
    "version": 3
   },
   "file_extension": ".py",
   "mimetype": "text/x-python",
   "name": "python",
   "nbconvert_exporter": "python",
   "pygments_lexer": "ipython3",
   "version": "3.12.6"
  }
 },
 "nbformat": 4,
 "nbformat_minor": 5
}
