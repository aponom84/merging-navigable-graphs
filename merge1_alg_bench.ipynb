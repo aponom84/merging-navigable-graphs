{
 "cells": [
  {
   "cell_type": "code",
   "execution_count": 4,
   "id": "eea1eda3-633d-458d-8230-a631b50aff73",
   "metadata": {},
   "outputs": [],
   "source": [
    "import importlib"
   ]
  },
  {
   "cell_type": "code",
   "execution_count": 5,
   "id": "a53e5ee0-a372-4a9f-8cad-44fb8b3768f4",
   "metadata": {},
   "outputs": [],
   "source": [
    "distance_count = 0\n",
    "def l2_distance(a, b):\n",
    "    global distance_count\n",
    "    distance_count+=1\n",
    "    return np.linalg.norm(a - b)"
   ]
  },
  {
   "cell_type": "code",
   "execution_count": 6,
   "id": "73656c17-1700-4823-a4ea-748abb04f39c",
   "metadata": {},
   "outputs": [],
   "source": [
    "import hnsw\n",
    "importlib.reload(hnsw)\n",
    "from hnsw import HNSW\n",
    "from hnsw import heuristic\n",
    "import numpy as np\n",
    "from datasets import load_sift_dataset, calculate_recall"
   ]
  },
  {
   "cell_type": "code",
   "execution_count": 12,
   "id": "921b2652-472b-4fcf-bf98-93327c9c2068",
   "metadata": {},
   "outputs": [],
   "source": [
    "hnsw_a = HNSW( distance_func=l2_distance, m=5, m0=7, ef=10, ef_construction=30,  neighborhood_construction = heuristic)\n",
    "hnsw_b = HNSW( distance_func=l2_distance, m=5, m0=7, ef=10, ef_construction=30,  neighborhood_construction = heuristic)"
   ]
  },
  {
   "cell_type": "code",
   "execution_count": 13,
   "id": "286c0c66-9701-403f-b015-c8b720b4c145",
   "metadata": {},
   "outputs": [],
   "source": [
    "hnsw_a.load('save/sift1m/hnsw_a.txt')\n",
    "hnsw_b.load('save/sift1m/hnsw_b.txt')"
   ]
  },
  {
   "cell_type": "code",
   "execution_count": 14,
   "id": "2a18ab7a-a503-45e4-b423-a47031da51d3",
   "metadata": {},
   "outputs": [],
   "source": [
    "merged_data = hnsw_a.data.copy()\n",
    "merged_data.update(hnsw_b.data)"
   ]
  },
  {
   "cell_type": "code",
   "execution_count": 15,
   "id": "a3832bb3-3fb6-402a-a2bb-577c59df9f5a",
   "metadata": {},
   "outputs": [],
   "source": [
    "import merge_hnsw\n",
    "importlib.reload(merge_hnsw)\n",
    "from merge_hnsw import hnsw_general_merge\n",
    "from merge_hnsw import layer_merge1_func"
   ]
  },
  {
   "cell_type": "code",
   "execution_count": 16,
   "id": "7b93a0e4-6037-4def-8f48-b112dd1e8e48",
   "metadata": {},
   "outputs": [
    {
     "name": "stdout",
     "output_type": "stream",
     "text": [
      "Merging level: 0\n"
     ]
    },
    {
     "name": "stderr",
     "output_type": "stream",
     "text": [
      "Merging progress: 100%|██████████████████████████████████████████████████████████████████████████████████████████████████████████████████████████████████████████████████████████████| 500000/500000 [32:41<00:00, 254.87it/s]\n",
      "Merging progress: 100%|██████████████████████████████████████████████████████████████████████████████████████████████████████████████████████████████████████████████████████████████| 500000/500000 [31:08<00:00, 267.64it/s]\n"
     ]
    },
    {
     "name": "stdout",
     "output_type": "stream",
     "text": [
      "Merging level: 1\n"
     ]
    },
    {
     "name": "stderr",
     "output_type": "stream",
     "text": [
      "Merging progress: 100%|████████████████████████████████████████████████████████████████████████████████████████████████████████████████████████████████████████████████████████████████| 31635/31635 [01:10<00:00, 446.19it/s]\n",
      "Merging progress: 100%|████████████████████████████████████████████████████████████████████████████████████████████████████████████████████████████████████████████████████████████████| 31358/31358 [01:09<00:00, 452.23it/s]\n"
     ]
    },
    {
     "name": "stdout",
     "output_type": "stream",
     "text": [
      "Merging level: 2\n"
     ]
    },
    {
     "name": "stderr",
     "output_type": "stream",
     "text": [
      "Merging progress: 100%|██████████████████████████████████████████████████████████████████████████████████████████████████████████████████████████████████████████████████████████████████| 1985/1985 [00:02<00:00, 713.13it/s]\n",
      "Merging progress: 100%|██████████████████████████████████████████████████████████████████████████████████████████████████████████████████████████████████████████████████████████████████| 1943/1943 [00:02<00:00, 655.99it/s]\n"
     ]
    },
    {
     "name": "stdout",
     "output_type": "stream",
     "text": [
      "Merging level: 3\n"
     ]
    },
    {
     "name": "stderr",
     "output_type": "stream",
     "text": [
      "Merging progress: 100%|████████████████████████████████████████████████████████████████████████████████████████████████████████████████████████████████████████████████████████████████████| 148/148 [00:00<00:00, 900.04it/s]\n",
      "Merging progress: 100%|████████████████████████████████████████████████████████████████████████████████████████████████████████████████████████████████████████████████████████████████████| 124/124 [00:00<00:00, 779.26it/s]\n"
     ]
    },
    {
     "name": "stdout",
     "output_type": "stream",
     "text": [
      "Merging level: 4\n"
     ]
    },
    {
     "name": "stderr",
     "output_type": "stream",
     "text": [
      "Merging progress: 100%|█████████████████████████████████████████████████████████████████████████████████████████████████████████████████████████████████████████████████████████████████████| 11/11 [00:00<00:00, 1932.94it/s]\n",
      "Merging progress: 100%|███████████████████████████████████████████████████████████████████████████████████████████████████████████████████████████████████████████████████████████████████████| 6/6 [00:00<00:00, 2759.71it/s]"
     ]
    },
    {
     "name": "stdout",
     "output_type": "stream",
     "text": [
      "CPU times: user 1h 4min 36s, sys: 10min 29s, total: 1h 15min 5s\n",
      "Wall time: 1h 6min 16s\n"
     ]
    },
    {
     "name": "stderr",
     "output_type": "stream",
     "text": [
      "\n"
     ]
    }
   ],
   "source": [
    "%%time\n",
    "distance_count = 0\n",
    "hnsw_merged1 = hnsw_general_merge(hnsw_a, hnsw_b, merged_data, layer_merge1_func)"
   ]
  },
  {
   "cell_type": "code",
   "execution_count": 18,
   "id": "2bc82d74-3410-4a1f-a07a-e8c31fdfd8f7",
   "metadata": {},
   "outputs": [],
   "source": [
    "hnsw_merged1.save('save/sift1m/hnsw_merged1.txt')"
   ]
  },
  {
   "cell_type": "code",
   "execution_count": 17,
   "id": "701c2190-97a5-43b4-b025-10b454d90d34",
   "metadata": {},
   "outputs": [
    {
     "name": "stdout",
     "output_type": "stream",
     "text": [
      "696869746\n"
     ]
    }
   ],
   "source": [
    "print(f'Numer of distance calculated during merge: {distance_count}') # 696869746"
   ]
  },
  {
   "cell_type": "code",
   "execution_count": null,
   "id": "4ff5cdd9-d2d7-4968-85ef-efda4acb2078",
   "metadata": {},
   "outputs": [],
   "source": [
    "print('Merging accuracy', calculate_recall(hnsw_merged_naive, test_data, groundtruth=groundtruth_data, k=5, ef=1))"
   ]
  },
  {
   "cell_type": "code",
   "execution_count": 10,
   "id": "d5fae29a-4406-417b-8495-380363c122cd",
   "metadata": {},
   "outputs": [],
   "source": [
    "_, test_data, groundtruth_data = load_sift_dataset(train_file = None,\n",
    "                                                      test_file='../datasets/sift1m-128d/sift_query.fvecs',\n",
    "                                                      groundtruth_file='../datasets/sift1m-128d/sift_groundtruth.ivecs')"
   ]
  },
  {
   "cell_type": "code",
   "execution_count": 20,
   "id": "e28391b1-1b91-47cc-b50d-9f8c9eba4ea6",
   "metadata": {},
   "outputs": [
    {
     "name": "stdout",
     "output_type": "stream",
     "text": [
      "Calculating recall...\n"
     ]
    },
    {
     "name": "stderr",
     "output_type": "stream",
     "text": [
      "100%|██████████████████████████████████████████████████████████████████████████████████████████████████████████████████████████████████████████████████████████████████████████████████| 10000/10000 [01:08<00:00, 146.42it/s]"
     ]
    },
    {
     "name": "stdout",
     "output_type": "stream",
     "text": [
      "Merging accuracy (np.float64(0.8379), 487.7682)\n"
     ]
    },
    {
     "name": "stderr",
     "output_type": "stream",
     "text": [
      "\n"
     ]
    }
   ],
   "source": [
    "print('Merging accuracy', calculate_recall(hnsw_merged1, test_data, groundtruth=groundtruth_data, k=5, ef=32))"
   ]
  },
  {
   "cell_type": "code",
   "execution_count": 21,
   "id": "cd4f161d-7908-40d1-bb63-7c8f78580f7e",
   "metadata": {},
   "outputs": [
    {
     "name": "stdout",
     "output_type": "stream",
     "text": [
      "Calculating recall...\n"
     ]
    },
    {
     "name": "stderr",
     "output_type": "stream",
     "text": [
      "100%|██████████████████████████████████████████████████████████████████████████████████████████████████████████████████████████████████████████████████████████████████████████████████| 10000/10000 [01:30<00:00, 109.93it/s]"
     ]
    },
    {
     "name": "stdout",
     "output_type": "stream",
     "text": [
      "Merging accuracy (np.float64(0.8687799999999999), 583.2042)\n"
     ]
    },
    {
     "name": "stderr",
     "output_type": "stream",
     "text": [
      "\n"
     ]
    }
   ],
   "source": [
    "print('Merging accuracy', calculate_recall(hnsw_merged1, test_data, groundtruth=groundtruth_data, k=5, ef=40))"
   ]
  },
  {
   "cell_type": "code",
   "execution_count": 22,
   "id": "0c00ded5-5ae2-4304-b50c-619dc515ea10",
   "metadata": {
    "scrolled": true
   },
   "outputs": [
    {
     "name": "stdout",
     "output_type": "stream",
     "text": [
      "Calculating recall...\n"
     ]
    },
    {
     "name": "stderr",
     "output_type": "stream",
     "text": [
      "100%|███████████████████████████████████████████████████████████████████████████████████████████████████████████████████████████████████████████████████████████████████████████████████| 10000/10000 [02:49<00:00, 58.86it/s]"
     ]
    },
    {
     "name": "stdout",
     "output_type": "stream",
     "text": [
      "Merging accuracy (np.float64(0.91922), 862.3079)\n"
     ]
    },
    {
     "name": "stderr",
     "output_type": "stream",
     "text": [
      "\n"
     ]
    }
   ],
   "source": [
    "print('Merging accuracy', calculate_recall(hnsw_merged1, test_data, groundtruth=groundtruth_data, k=5, ef=64))"
   ]
  },
  {
   "cell_type": "code",
   "execution_count": 11,
   "id": "d72845cb-3a50-4375-9a93-50780d9f4aad",
   "metadata": {},
   "outputs": [
    {
     "name": "stdout",
     "output_type": "stream",
     "text": [
      "Calculating recall...\n"
     ]
    },
    {
     "name": "stderr",
     "output_type": "stream",
     "text": [
      "100%|██████████████████████████████████████████████████████████████████████████████████████████████████████████████████████████████████████████████████████████████████████████████████| 10000/10000 [01:14<00:00, 133.67it/s]"
     ]
    },
    {
     "name": "stdout",
     "output_type": "stream",
     "text": [
      "32,0.83794, 609.8437\n"
     ]
    },
    {
     "name": "stderr",
     "output_type": "stream",
     "text": [
      "\n"
     ]
    }
   ],
   "source": [
    "search_ef = 32\n",
    "distance_count = 0\n",
    "recall, _ = calculate_recall(hnsw_merged1, test_data, groundtruth=groundtruth_data, k=5, ef=search_ef)\n",
    "print(f'{search_ef},{recall}, {distance_count/len(test_data) }') "
   ]
  },
  {
   "cell_type": "code",
   "execution_count": 12,
   "id": "794f6d2b-08c1-4759-81e7-f1a1cb68766e",
   "metadata": {},
   "outputs": [
    {
     "name": "stdout",
     "output_type": "stream",
     "text": [
      "Calculating recall...\n"
     ]
    },
    {
     "name": "stderr",
     "output_type": "stream",
     "text": [
      "100%|██████████████████████████████████████████████████████████████████████████████████████████████████████████████████████████████████████████████████████████████████████████████████| 10000/10000 [01:29<00:00, 111.55it/s]"
     ]
    },
    {
     "name": "stdout",
     "output_type": "stream",
     "text": [
      "40,0.8689399999999999, 705.2153\n"
     ]
    },
    {
     "name": "stderr",
     "output_type": "stream",
     "text": [
      "\n"
     ]
    }
   ],
   "source": [
    "search_ef = 40\n",
    "distance_count = 0\n",
    "recall, _ = calculate_recall(hnsw_merged1, test_data, groundtruth=groundtruth_data, k=5, ef=search_ef)\n",
    "print(f'{search_ef},{recall}, {distance_count/len(test_data) }') "
   ]
  },
  {
   "cell_type": "code",
   "execution_count": 13,
   "id": "dd8f18c6-6a4b-452f-90b2-80953aca65f8",
   "metadata": {},
   "outputs": [
    {
     "name": "stdout",
     "output_type": "stream",
     "text": [
      "Calculating recall...\n"
     ]
    },
    {
     "name": "stderr",
     "output_type": "stream",
     "text": [
      "100%|███████████████████████████████████████████████████████████████████████████████████████████████████████████████████████████████████████████████████████████████████████████████████| 10000/10000 [02:46<00:00, 60.15it/s]"
     ]
    },
    {
     "name": "stdout",
     "output_type": "stream",
     "text": [
      "64,0.9193399999999999, 984.2736\n"
     ]
    },
    {
     "name": "stderr",
     "output_type": "stream",
     "text": [
      "\n"
     ]
    }
   ],
   "source": [
    "search_ef = 64\n",
    "distance_count = 0\n",
    "recall, _ = calculate_recall(hnsw_merged1, test_data, groundtruth=groundtruth_data, k=5, ef=search_ef)\n",
    "print(f'{search_ef},{recall}, {distance_count/len(test_data) }') "
   ]
  }
 ],
 "metadata": {
  "kernelspec": {
   "display_name": "Python 3 (ipykernel)",
   "language": "python",
   "name": "python3"
  },
  "language_info": {
   "codemirror_mode": {
    "name": "ipython",
    "version": 3
   },
   "file_extension": ".py",
   "mimetype": "text/x-python",
   "name": "python",
   "nbconvert_exporter": "python",
   "pygments_lexer": "ipython3",
   "version": "3.12.6"
  }
 },
 "nbformat": 4,
 "nbformat_minor": 5
}
